{
 "cells": [
  {
   "cell_type": "code",
   "execution_count": 19,
   "id": "e70a6f83",
   "metadata": {},
   "outputs": [],
   "source": [
    "!pip install -qU pandas-profiling"
   ]
  },
  {
   "cell_type": "code",
   "execution_count": 50,
   "id": "9bd5893a",
   "metadata": {},
   "outputs": [],
   "source": [
    "# for data manipulation\n",
    "import numpy as np\n",
    "import pandas as pd\n",
    "from pandas_profiling import ProfileReport\n",
    "\n",
    "# for visualization\n",
    "import matplotlib.pyplot as plt\n",
    "import seaborn as sns\n",
    "import datetime as dt\n",
    "%matplotlib inline\n",
    "\n",
    "# Import Warnings\n",
    "import warnings\n",
    "warnings.simplefilter(action=\"ignore\")"
   ]
  },
  {
   "cell_type": "code",
   "execution_count": 45,
   "id": "873724dd",
   "metadata": {},
   "outputs": [],
   "source": [
    "accidents = pd.read_csv('accidents_description.csv')\n",
    "health = pd.read_csv('health_database.csv')"
   ]
  },
  {
   "cell_type": "code",
   "execution_count": 15,
   "id": "84a161d2",
   "metadata": {},
   "outputs": [
    {
     "data": {
      "text/plain": [
       "(439, 9)"
      ]
     },
     "execution_count": 15,
     "metadata": {},
     "output_type": "execute_result"
    }
   ],
   "source": [
    "#Begin Data Exploration\n",
    "health.shape"
   ]
  },
  {
   "cell_type": "code",
   "execution_count": 49,
   "id": "9b9571e4",
   "metadata": {},
   "outputs": [],
   "source": [
    "health.profile_report()"
   ]
  },
  {
   "cell_type": "code",
   "execution_count": 25,
   "id": "9b4b4209",
   "metadata": {},
   "outputs": [
    {
     "data": {
      "text/html": [
       "<div>\n",
       "<style scoped>\n",
       "    .dataframe tbody tr th:only-of-type {\n",
       "        vertical-align: middle;\n",
       "    }\n",
       "\n",
       "    .dataframe tbody tr th {\n",
       "        vertical-align: top;\n",
       "    }\n",
       "\n",
       "    .dataframe thead th {\n",
       "        text-align: right;\n",
       "    }\n",
       "</style>\n",
       "<table border=\"1\" class=\"dataframe\">\n",
       "  <thead>\n",
       "    <tr style=\"text-align: right;\">\n",
       "      <th></th>\n",
       "      <th>Data</th>\n",
       "      <th>Countries</th>\n",
       "      <th>Local</th>\n",
       "      <th>Industry Sector</th>\n",
       "      <th>Accident Level</th>\n",
       "      <th>Potential Accident Level</th>\n",
       "      <th>Genre</th>\n",
       "      <th>Employee ou Terceiro</th>\n",
       "      <th>Risco Critico</th>\n",
       "    </tr>\n",
       "  </thead>\n",
       "  <tbody>\n",
       "    <tr>\n",
       "      <th>0</th>\n",
       "      <td>2016-01-01 00:00:00</td>\n",
       "      <td>Country_01</td>\n",
       "      <td>Local_01</td>\n",
       "      <td>Mining</td>\n",
       "      <td>I</td>\n",
       "      <td>IV</td>\n",
       "      <td>Male</td>\n",
       "      <td>Third Party</td>\n",
       "      <td>Pressed</td>\n",
       "    </tr>\n",
       "    <tr>\n",
       "      <th>1</th>\n",
       "      <td>2016-01-02 00:00:00</td>\n",
       "      <td>Country_02</td>\n",
       "      <td>Local_02</td>\n",
       "      <td>Mining</td>\n",
       "      <td>I</td>\n",
       "      <td>IV</td>\n",
       "      <td>Male</td>\n",
       "      <td>Employee</td>\n",
       "      <td>Pressurized Systems</td>\n",
       "    </tr>\n",
       "    <tr>\n",
       "      <th>2</th>\n",
       "      <td>2016-01-06 00:00:00</td>\n",
       "      <td>Country_01</td>\n",
       "      <td>Local_03</td>\n",
       "      <td>Mining</td>\n",
       "      <td>I</td>\n",
       "      <td>III</td>\n",
       "      <td>Male</td>\n",
       "      <td>Third Party (Remote)</td>\n",
       "      <td>Manual Tools</td>\n",
       "    </tr>\n",
       "    <tr>\n",
       "      <th>3</th>\n",
       "      <td>2016-01-08 00:00:00</td>\n",
       "      <td>Country_01</td>\n",
       "      <td>Local_04</td>\n",
       "      <td>Mining</td>\n",
       "      <td>I</td>\n",
       "      <td>I</td>\n",
       "      <td>Male</td>\n",
       "      <td>Third Party</td>\n",
       "      <td>Others</td>\n",
       "    </tr>\n",
       "    <tr>\n",
       "      <th>4</th>\n",
       "      <td>2016-01-10 00:00:00</td>\n",
       "      <td>Country_01</td>\n",
       "      <td>Local_04</td>\n",
       "      <td>Mining</td>\n",
       "      <td>IV</td>\n",
       "      <td>IV</td>\n",
       "      <td>Male</td>\n",
       "      <td>Third Party</td>\n",
       "      <td>Others</td>\n",
       "    </tr>\n",
       "  </tbody>\n",
       "</table>\n",
       "</div>"
      ],
      "text/plain": [
       "                  Data   Countries     Local Industry Sector Accident Level  \\\n",
       "0  2016-01-01 00:00:00  Country_01  Local_01          Mining              I   \n",
       "1  2016-01-02 00:00:00  Country_02  Local_02          Mining              I   \n",
       "2  2016-01-06 00:00:00  Country_01  Local_03          Mining              I   \n",
       "3  2016-01-08 00:00:00  Country_01  Local_04          Mining              I   \n",
       "4  2016-01-10 00:00:00  Country_01  Local_04          Mining             IV   \n",
       "\n",
       "  Potential Accident Level Genre  Employee ou Terceiro        Risco Critico  \n",
       "0                       IV  Male           Third Party              Pressed  \n",
       "1                       IV  Male              Employee  Pressurized Systems  \n",
       "2                      III  Male  Third Party (Remote)         Manual Tools  \n",
       "3                        I  Male           Third Party               Others  \n",
       "4                       IV  Male           Third Party               Others  "
      ]
     },
     "execution_count": 25,
     "metadata": {},
     "output_type": "execute_result"
    }
   ],
   "source": [
    "health.head()"
   ]
  },
  {
   "cell_type": "code",
   "execution_count": 47,
   "id": "3fa62eee",
   "metadata": {},
   "outputs": [
    {
     "data": {
      "text/plain": [
       "Index(['Data', 'Countries', 'Local', 'Industry Sector', 'Accident Level',\n",
       "       'Potential Accident Level', 'Genre', 'Employee ou Terceiro',\n",
       "       'Risco Critico'],\n",
       "      dtype='object')"
      ]
     },
     "execution_count": 47,
     "metadata": {},
     "output_type": "execute_result"
    }
   ],
   "source": [
    "health.columns"
   ]
  },
  {
   "cell_type": "code",
   "execution_count": 48,
   "id": "a59c0b7c",
   "metadata": {},
   "outputs": [
    {
     "data": {
      "text/html": [
       "<div>\n",
       "<style scoped>\n",
       "    .dataframe tbody tr th:only-of-type {\n",
       "        vertical-align: middle;\n",
       "    }\n",
       "\n",
       "    .dataframe tbody tr th {\n",
       "        vertical-align: top;\n",
       "    }\n",
       "\n",
       "    .dataframe thead th {\n",
       "        text-align: right;\n",
       "    }\n",
       "</style>\n",
       "<table border=\"1\" class=\"dataframe\">\n",
       "  <thead>\n",
       "    <tr style=\"text-align: right;\">\n",
       "      <th></th>\n",
       "      <th>Date</th>\n",
       "      <th>Country</th>\n",
       "      <th>Local</th>\n",
       "      <th>Industry Sector</th>\n",
       "      <th>Accident Level</th>\n",
       "      <th>Potential Accident Level</th>\n",
       "      <th>Gender</th>\n",
       "      <th>Employee type</th>\n",
       "      <th>Critical risk</th>\n",
       "    </tr>\n",
       "  </thead>\n",
       "  <tbody>\n",
       "    <tr>\n",
       "      <th>0</th>\n",
       "      <td>2016-01-01 00:00:00</td>\n",
       "      <td>Country_01</td>\n",
       "      <td>Local_01</td>\n",
       "      <td>Mining</td>\n",
       "      <td>I</td>\n",
       "      <td>IV</td>\n",
       "      <td>Male</td>\n",
       "      <td>Third Party</td>\n",
       "      <td>Pressed</td>\n",
       "    </tr>\n",
       "    <tr>\n",
       "      <th>1</th>\n",
       "      <td>2016-01-02 00:00:00</td>\n",
       "      <td>Country_02</td>\n",
       "      <td>Local_02</td>\n",
       "      <td>Mining</td>\n",
       "      <td>I</td>\n",
       "      <td>IV</td>\n",
       "      <td>Male</td>\n",
       "      <td>Employee</td>\n",
       "      <td>Pressurized Systems</td>\n",
       "    </tr>\n",
       "    <tr>\n",
       "      <th>2</th>\n",
       "      <td>2016-01-06 00:00:00</td>\n",
       "      <td>Country_01</td>\n",
       "      <td>Local_03</td>\n",
       "      <td>Mining</td>\n",
       "      <td>I</td>\n",
       "      <td>III</td>\n",
       "      <td>Male</td>\n",
       "      <td>Third Party (Remote)</td>\n",
       "      <td>Manual Tools</td>\n",
       "    </tr>\n",
       "    <tr>\n",
       "      <th>3</th>\n",
       "      <td>2016-01-08 00:00:00</td>\n",
       "      <td>Country_01</td>\n",
       "      <td>Local_04</td>\n",
       "      <td>Mining</td>\n",
       "      <td>I</td>\n",
       "      <td>I</td>\n",
       "      <td>Male</td>\n",
       "      <td>Third Party</td>\n",
       "      <td>Others</td>\n",
       "    </tr>\n",
       "    <tr>\n",
       "      <th>4</th>\n",
       "      <td>2016-01-10 00:00:00</td>\n",
       "      <td>Country_01</td>\n",
       "      <td>Local_04</td>\n",
       "      <td>Mining</td>\n",
       "      <td>IV</td>\n",
       "      <td>IV</td>\n",
       "      <td>Male</td>\n",
       "      <td>Third Party</td>\n",
       "      <td>Others</td>\n",
       "    </tr>\n",
       "  </tbody>\n",
       "</table>\n",
       "</div>"
      ],
      "text/plain": [
       "                  Date     Country     Local Industry Sector Accident Level  \\\n",
       "0  2016-01-01 00:00:00  Country_01  Local_01          Mining              I   \n",
       "1  2016-01-02 00:00:00  Country_02  Local_02          Mining              I   \n",
       "2  2016-01-06 00:00:00  Country_01  Local_03          Mining              I   \n",
       "3  2016-01-08 00:00:00  Country_01  Local_04          Mining              I   \n",
       "4  2016-01-10 00:00:00  Country_01  Local_04          Mining             IV   \n",
       "\n",
       "  Potential Accident Level Gender         Employee type        Critical risk  \n",
       "0                       IV   Male           Third Party              Pressed  \n",
       "1                       IV   Male              Employee  Pressurized Systems  \n",
       "2                      III   Male  Third Party (Remote)         Manual Tools  \n",
       "3                        I   Male           Third Party               Others  \n",
       "4                       IV   Male           Third Party               Others  "
      ]
     },
     "execution_count": 48,
     "metadata": {},
     "output_type": "execute_result"
    }
   ],
   "source": [
    "#Rename the columns \n",
    "health.rename(columns={'Data':'Date', 'Countries':'Country', 'Genre':'Gender', 'Employee ou Terceiro':'Employee type', 'Risco Critico':'Critical risk'}, inplace=True)\n",
    "health.head()"
   ]
  },
  {
   "cell_type": "code",
   "execution_count": 53,
   "id": "9f86d099",
   "metadata": {},
   "outputs": [],
   "source": [
    "#For time series analysis\n",
    "health['Date'] = pd.to_datetime(health['Date'])\n",
    "health['Year'] = health['Date'].apply(lambda x : x.year)\n",
    "health['Month'] = health['Date'].apply(lambda x : x.month)\n",
    "health['Day'] = health['Date'].apply(lambda x : x.day)\n",
    "health['Weekday'] = health['Date'].apply(lambda x : x.day_name())"
   ]
  },
  {
   "cell_type": "code",
   "execution_count": 54,
   "id": "bc503723",
   "metadata": {},
   "outputs": [],
   "source": [
    "country_mapping = {\n",
    "    'Country_01': 1,\n",
    "    'Country_02': 2,\n",
    "    'Country_03': 3\n",
    "}\n",
    "\n",
    "health['Country'] = health['Country'].replace(country_mapping)"
   ]
  },
  {
   "cell_type": "code",
   "execution_count": 66,
   "id": "63379d5d",
   "metadata": {},
   "outputs": [],
   "source": [
    "# Define a dictionary to map months to seasons\n",
    "#In Southern Hemisphere\n",
    "month_to_season = {\n",
    "    12: 'Summer',\n",
    "    1: 'Summer',\n",
    "    2: 'Summer',\n",
    "    3: 'Automn',\n",
    "    4: 'Automn',\n",
    "    5: 'Automn',\n",
    "    6: 'Winter',\n",
    "    7: 'Winter',\n",
    "    8: 'Winter',\n",
    "    9: 'Spring',\n",
    "    10: 'Spring',\n",
    "    11: 'Spring'\n",
    "}\n",
    "\n",
    "# Map the months to seasons using the dictionary\n",
    "health['Season'] = health['Month'].map(month_to_season)"
   ]
  },
  {
   "cell_type": "code",
   "execution_count": 68,
   "id": "45b706fb",
   "metadata": {},
   "outputs": [
    {
     "data": {
      "text/html": [
       "<div>\n",
       "<style scoped>\n",
       "    .dataframe tbody tr th:only-of-type {\n",
       "        vertical-align: middle;\n",
       "    }\n",
       "\n",
       "    .dataframe tbody tr th {\n",
       "        vertical-align: top;\n",
       "    }\n",
       "\n",
       "    .dataframe thead th {\n",
       "        text-align: right;\n",
       "    }\n",
       "</style>\n",
       "<table border=\"1\" class=\"dataframe\">\n",
       "  <thead>\n",
       "    <tr style=\"text-align: right;\">\n",
       "      <th></th>\n",
       "      <th>Date</th>\n",
       "      <th>Country</th>\n",
       "      <th>Local</th>\n",
       "      <th>Industry Sector</th>\n",
       "      <th>Accident Level</th>\n",
       "      <th>Potential Accident Level</th>\n",
       "      <th>Gender</th>\n",
       "      <th>Employee type</th>\n",
       "      <th>Critical risk</th>\n",
       "      <th>Year</th>\n",
       "      <th>Month</th>\n",
       "      <th>Day</th>\n",
       "      <th>Weekday</th>\n",
       "      <th>Season</th>\n",
       "    </tr>\n",
       "  </thead>\n",
       "  <tbody>\n",
       "    <tr>\n",
       "      <th>0</th>\n",
       "      <td>2016-01-01</td>\n",
       "      <td>1</td>\n",
       "      <td>Local_01</td>\n",
       "      <td>Mining</td>\n",
       "      <td>I</td>\n",
       "      <td>IV</td>\n",
       "      <td>Male</td>\n",
       "      <td>Third Party</td>\n",
       "      <td>Pressed</td>\n",
       "      <td>2016</td>\n",
       "      <td>1</td>\n",
       "      <td>1</td>\n",
       "      <td>Friday</td>\n",
       "      <td>Summer</td>\n",
       "    </tr>\n",
       "    <tr>\n",
       "      <th>1</th>\n",
       "      <td>2016-01-02</td>\n",
       "      <td>2</td>\n",
       "      <td>Local_02</td>\n",
       "      <td>Mining</td>\n",
       "      <td>I</td>\n",
       "      <td>IV</td>\n",
       "      <td>Male</td>\n",
       "      <td>Employee</td>\n",
       "      <td>Pressurized Systems</td>\n",
       "      <td>2016</td>\n",
       "      <td>1</td>\n",
       "      <td>2</td>\n",
       "      <td>Saturday</td>\n",
       "      <td>Summer</td>\n",
       "    </tr>\n",
       "    <tr>\n",
       "      <th>2</th>\n",
       "      <td>2016-01-06</td>\n",
       "      <td>1</td>\n",
       "      <td>Local_03</td>\n",
       "      <td>Mining</td>\n",
       "      <td>I</td>\n",
       "      <td>III</td>\n",
       "      <td>Male</td>\n",
       "      <td>Third Party (Remote)</td>\n",
       "      <td>Manual Tools</td>\n",
       "      <td>2016</td>\n",
       "      <td>1</td>\n",
       "      <td>6</td>\n",
       "      <td>Wednesday</td>\n",
       "      <td>Summer</td>\n",
       "    </tr>\n",
       "    <tr>\n",
       "      <th>3</th>\n",
       "      <td>2016-01-08</td>\n",
       "      <td>1</td>\n",
       "      <td>Local_04</td>\n",
       "      <td>Mining</td>\n",
       "      <td>I</td>\n",
       "      <td>I</td>\n",
       "      <td>Male</td>\n",
       "      <td>Third Party</td>\n",
       "      <td>Others</td>\n",
       "      <td>2016</td>\n",
       "      <td>1</td>\n",
       "      <td>8</td>\n",
       "      <td>Friday</td>\n",
       "      <td>Summer</td>\n",
       "    </tr>\n",
       "  </tbody>\n",
       "</table>\n",
       "</div>"
      ],
      "text/plain": [
       "        Date  Country     Local Industry Sector Accident Level  \\\n",
       "0 2016-01-01        1  Local_01          Mining              I   \n",
       "1 2016-01-02        2  Local_02          Mining              I   \n",
       "2 2016-01-06        1  Local_03          Mining              I   \n",
       "3 2016-01-08        1  Local_04          Mining              I   \n",
       "\n",
       "  Potential Accident Level Gender         Employee type        Critical risk  \\\n",
       "0                       IV   Male           Third Party              Pressed   \n",
       "1                       IV   Male              Employee  Pressurized Systems   \n",
       "2                      III   Male  Third Party (Remote)         Manual Tools   \n",
       "3                        I   Male           Third Party               Others   \n",
       "\n",
       "   Year  Month  Day    Weekday  Season  \n",
       "0  2016      1    1     Friday  Summer  \n",
       "1  2016      1    2   Saturday  Summer  \n",
       "2  2016      1    6  Wednesday  Summer  \n",
       "3  2016      1    8     Friday  Summer  "
      ]
     },
     "execution_count": 68,
     "metadata": {},
     "output_type": "execute_result"
    }
   ],
   "source": [
    "health.head(4)"
   ]
  },
  {
   "cell_type": "code",
   "execution_count": 70,
   "id": "ac15a399",
   "metadata": {},
   "outputs": [
    {
     "data": {
      "text/plain": [
       "Date                        0\n",
       "Country                     0\n",
       "Local                       0\n",
       "Industry Sector             0\n",
       "Accident Level              0\n",
       "Potential Accident Level    0\n",
       "Gender                      0\n",
       "Employee type               0\n",
       "Critical risk               0\n",
       "Year                        0\n",
       "Month                       0\n",
       "Day                         0\n",
       "Weekday                     0\n",
       "Season                      0\n",
       "dtype: int64"
      ]
     },
     "execution_count": 70,
     "metadata": {},
     "output_type": "execute_result"
    }
   ],
   "source": [
    "#Another check for nulls\n",
    "health.isnull().sum()"
   ]
  },
  {
   "cell_type": "code",
   "execution_count": 75,
   "id": "384a3f02",
   "metadata": {},
   "outputs": [
    {
     "data": {
      "text/plain": [
       "0"
      ]
     },
     "execution_count": 75,
     "metadata": {},
     "output_type": "execute_result"
    }
   ],
   "source": [
    "health.duplicated().sum()"
   ]
  },
  {
   "cell_type": "code",
   "execution_count": 74,
   "id": "2a3a6e62",
   "metadata": {},
   "outputs": [],
   "source": [
    "#Drop the dups\n",
    "health.drop_duplicates(inplace = True)"
   ]
  },
  {
   "cell_type": "code",
   "execution_count": 77,
   "id": "b5e41b25",
   "metadata": {},
   "outputs": [
    {
     "data": {
      "text/plain": [
       "Others                                       229\n",
       "Pressed                                       24\n",
       "Manual Tools                                  20\n",
       "Chemical substances                           17\n",
       "Cut                                           14\n",
       "Venomous Animals                              13\n",
       "Projection                                    13\n",
       "Fall                                           9\n",
       "Vehicles and Mobile Equipment                  8\n",
       "remains of choco                               7\n",
       "Pressurized Systems                            7\n",
       "Fall prevention (same level)                   7\n",
       "Bees                                           7\n",
       "Suspended Loads                                6\n",
       "Fall prevention                                6\n",
       "Liquid Metal                                   3\n",
       "Blocking and isolation of energies             3\n",
       "Pressurized Systems / Chemical Substances      3\n",
       "Power lock                                     3\n",
       "Not applicable                                 2\n",
       "Machine Protection                             2\n",
       "Projection/Manual Tools                        1\n",
       "Projection/Choco                               1\n",
       "Burn                                           1\n",
       "Individual protection equipment                1\n",
       "Electrical Shock                               1\n",
       "\\nNot applicable                               1\n",
       "Projection/Burning                             1\n",
       "Plates                                         1\n",
       "Traffic                                        1\n",
       "Poll                                           1\n",
       "Confined space                                 1\n",
       "Electrical installation                        1\n",
       "Projection of fragments                        1\n",
       "Name: Critical risk, dtype: int64"
      ]
     },
     "execution_count": 77,
     "metadata": {},
     "output_type": "execute_result"
    }
   ],
   "source": [
    "health['Critical risk'].value_counts()"
   ]
  },
  {
   "cell_type": "code",
   "execution_count": 79,
   "id": "dc530b33",
   "metadata": {},
   "outputs": [
    {
     "data": {
      "text/plain": [
       "Thursday     73\n",
       "Tuesday      68\n",
       "Friday       63\n",
       "Wednesday    62\n",
       "Saturday     56\n",
       "Monday       53\n",
       "Sunday       41\n",
       "Name: Weekday, dtype: int64"
      ]
     },
     "execution_count": 79,
     "metadata": {},
     "output_type": "execute_result"
    }
   ],
   "source": [
    "health['Weekday'].value_counts()"
   ]
  },
  {
   "cell_type": "code",
   "execution_count": null,
   "id": "58511353",
   "metadata": {},
   "outputs": [],
   "source": [
    "#Time to get gritty"
   ]
  },
  {
   "cell_type": "code",
   "execution_count": 86,
   "id": "9d3b7c01",
   "metadata": {},
   "outputs": [],
   "source": [
    "def simple_grab_col_names(df, cat_th=10, car_th=20):\n",
    "    cat_cols = [col for col in health.select_dtypes(include='object').columns]\n",
    "    num_cols = [col for col in health.select_dtypes(exclude='object').columns]\n",
    "\n",
    "    num_but_cat = [col for col in num_cols if health[col].nunique() < cat_th]\n",
    "    cat_cols += num_but_cat\n",
    "    cat_cols = [col for col in cat_cols if health[col].nunique() <= car_th]\n",
    "\n",
    "    cat_but_car = [col for col in cat_cols if health[col].nunique() > car_th]\n",
    "\n",
    "    print(\" RESULT \".center(60, '~'), \"\\n\")\n",
    "    print(f'cat_cols: {len(cat_cols)}')\n",
    "    print(f'num_cols: {len(num_cols) - len(num_but_cat)}')\n",
    "    print(f'cat_but_car: {len(cat_but_car)}')\n",
    "    print(f'num_but_cat: {len(num_but_cat)}', \"\\n\")\n",
    "    print(\"\".center(60, '~'))\n",
    "\n",
    "    return cat_cols, num_cols, cat_but_car\n"
   ]
  },
  {
   "cell_type": "code",
   "execution_count": 87,
   "id": "a1e22d5a",
   "metadata": {},
   "outputs": [
    {
     "name": "stdout",
     "output_type": "stream",
     "text": [
      "~~~~~~~~~~~~~~~~~~~~~~~~~~ RESULT ~~~~~~~~~~~~~~~~~~~~~~~~~~ \n",
      "\n",
      "cat_cols: 10\n",
      "num_cols: 3\n",
      "cat_but_car: 0\n",
      "num_but_cat: 2 \n",
      "\n",
      "~~~~~~~~~~~~~~~~~~~~~~~~~~~~~~~~~~~~~~~~~~~~~~~~~~~~~~~~~~~~\n",
      "Categorical Columns: ['Local', 'Industry Sector', 'Accident Level', 'Potential Accident Level', 'Gender', 'Employee type', 'Weekday', 'Season', 'Country', 'Year']\n",
      "Numeric Columns: ['Date', 'Country', 'Year', 'Month', 'Day']\n",
      "Categorical but Cardinal Columns: []\n"
     ]
    }
   ],
   "source": [
    "cat_cols, num_cols, cat_but_car = simple_grab_col_names(health)\n",
    "\n",
    "# Print the values\n",
    "print(\"Categorical Columns:\", cat_cols)\n",
    "print(\"Numeric Columns:\", num_cols)\n",
    "print(\"Categorical but Cardinal Columns:\", cat_but_car)"
   ]
  },
  {
   "cell_type": "code",
   "execution_count": 82,
   "id": "1ca08e0a",
   "metadata": {},
   "outputs": [
    {
     "data": {
      "text/plain": [
       "['Local',\n",
       " 'Industry Sector',\n",
       " 'Accident Level',\n",
       " 'Potential Accident Level',\n",
       " 'Gender',\n",
       " 'Employee type',\n",
       " 'Weekday',\n",
       " 'Season',\n",
       " 'Country',\n",
       " 'Year']"
      ]
     },
     "execution_count": 82,
     "metadata": {},
     "output_type": "execute_result"
    }
   ],
   "source": [
    "cat_cols"
   ]
  },
  {
   "cell_type": "code",
   "execution_count": 90,
   "id": "1b81b738",
   "metadata": {},
   "outputs": [
    {
     "data": {
      "text/html": [
       "<div>\n",
       "<style scoped>\n",
       "    .dataframe tbody tr th:only-of-type {\n",
       "        vertical-align: middle;\n",
       "    }\n",
       "\n",
       "    .dataframe tbody tr th {\n",
       "        vertical-align: top;\n",
       "    }\n",
       "\n",
       "    .dataframe thead th {\n",
       "        text-align: right;\n",
       "    }\n",
       "</style>\n",
       "<table border=\"1\" class=\"dataframe\">\n",
       "  <thead>\n",
       "    <tr style=\"text-align: right;\">\n",
       "      <th></th>\n",
       "      <th>Unique Count</th>\n",
       "    </tr>\n",
       "  </thead>\n",
       "  <tbody>\n",
       "    <tr>\n",
       "      <th>Date</th>\n",
       "      <td>287</td>\n",
       "    </tr>\n",
       "    <tr>\n",
       "      <th>Critical risk</th>\n",
       "      <td>34</td>\n",
       "    </tr>\n",
       "    <tr>\n",
       "      <th>Day</th>\n",
       "      <td>31</td>\n",
       "    </tr>\n",
       "    <tr>\n",
       "      <th>Local</th>\n",
       "      <td>12</td>\n",
       "    </tr>\n",
       "    <tr>\n",
       "      <th>Month</th>\n",
       "      <td>12</td>\n",
       "    </tr>\n",
       "    <tr>\n",
       "      <th>Weekday</th>\n",
       "      <td>7</td>\n",
       "    </tr>\n",
       "    <tr>\n",
       "      <th>Potential Accident Level</th>\n",
       "      <td>6</td>\n",
       "    </tr>\n",
       "    <tr>\n",
       "      <th>Accident Level</th>\n",
       "      <td>5</td>\n",
       "    </tr>\n",
       "    <tr>\n",
       "      <th>Season</th>\n",
       "      <td>4</td>\n",
       "    </tr>\n",
       "    <tr>\n",
       "      <th>Country</th>\n",
       "      <td>3</td>\n",
       "    </tr>\n",
       "    <tr>\n",
       "      <th>Industry Sector</th>\n",
       "      <td>3</td>\n",
       "    </tr>\n",
       "    <tr>\n",
       "      <th>Employee type</th>\n",
       "      <td>3</td>\n",
       "    </tr>\n",
       "    <tr>\n",
       "      <th>Gender</th>\n",
       "      <td>2</td>\n",
       "    </tr>\n",
       "    <tr>\n",
       "      <th>Year</th>\n",
       "      <td>2</td>\n",
       "    </tr>\n",
       "  </tbody>\n",
       "</table>\n",
       "</div>"
      ],
      "text/plain": [
       "                          Unique Count\n",
       "Date                               287\n",
       "Critical risk                       34\n",
       "Day                                 31\n",
       "Local                               12\n",
       "Month                               12\n",
       "Weekday                              7\n",
       "Potential Accident Level             6\n",
       "Accident Level                       5\n",
       "Season                               4\n",
       "Country                              3\n",
       "Industry Sector                      3\n",
       "Employee type                        3\n",
       "Gender                               2\n",
       "Year                                 2"
      ]
     },
     "execution_count": 90,
     "metadata": {},
     "output_type": "execute_result"
    }
   ],
   "source": [
    "def check_classes(health):  \n",
    "    dict = {}\n",
    "    for i in list(health.columns):\n",
    "        dict[i] = health[i].value_counts().shape[0]\n",
    "\n",
    "    unq = pd.DataFrame(dict,index=[\"Unique Count\"]).transpose().sort_values(by=\"Unique Count\", ascending=False)\n",
    "    return unq\n",
    "\n",
    "check_classes(health)"
   ]
  },
  {
   "cell_type": "code",
   "execution_count": 95,
   "id": "b331b580",
   "metadata": {},
   "outputs": [
    {
     "name": "stdout",
     "output_type": "stream",
     "text": [
      "No outliers found in column 'Country'.\n"
     ]
    },
    {
     "ename": "AttributeError",
     "evalue": "'NoneType' object has no attribute 'shape'",
     "output_type": "error",
     "traceback": [
      "\u001b[0;31m---------------------------------------------------------------------------\u001b[0m",
      "\u001b[0;31mAttributeError\u001b[0m                            Traceback (most recent call last)",
      "\u001b[0;32m/var/folders/r0/q_6lx46n6ysf9fjqlmf07_bm0000gn/T/ipykernel_7118/268361974.py\u001b[0m in \u001b[0;36m<module>\u001b[0;34m\u001b[0m\n\u001b[1;32m     20\u001b[0m \u001b[0;34m\u001b[0m\u001b[0m\n\u001b[1;32m     21\u001b[0m \u001b[0;32mfor\u001b[0m \u001b[0mcol\u001b[0m \u001b[0;32min\u001b[0m \u001b[0mnum_cols\u001b[0m\u001b[0;34m:\u001b[0m\u001b[0;34m\u001b[0m\u001b[0;34m\u001b[0m\u001b[0m\n\u001b[0;32m---> 22\u001b[0;31m     \u001b[0mprint\u001b[0m\u001b[0;34m(\u001b[0m\u001b[0mcol\u001b[0m\u001b[0;34m,\u001b[0m \u001b[0;34m(\u001b[0m\u001b[0moutliers\u001b[0m \u001b[0;34m:=\u001b[0m \u001b[0mgrab_outliers\u001b[0m\u001b[0;34m(\u001b[0m\u001b[0mhealth\u001b[0m\u001b[0;34m,\u001b[0m \u001b[0mcol\u001b[0m\u001b[0;34m)\u001b[0m\u001b[0;34m)\u001b[0m\u001b[0;34m.\u001b[0m\u001b[0mshape\u001b[0m\u001b[0;34m[\u001b[0m\u001b[0;36m0\u001b[0m\u001b[0;34m]\u001b[0m \u001b[0;34m>\u001b[0m \u001b[0;36m0\u001b[0m\u001b[0;34m)\u001b[0m\u001b[0;34m\u001b[0m\u001b[0;34m\u001b[0m\u001b[0m\n\u001b[0m",
      "\u001b[0;31mAttributeError\u001b[0m: 'NoneType' object has no attribute 'shape'"
     ]
    }
   ],
   "source": [
    "def grab_outliers(health, col_name, index=False):\n",
    "    low, up = outlier_thresholds(health, col_name)\n",
    "    outliers = health[(health[col_name] < low) | (health[col_name] > up)]\n",
    "    \n",
    "    if outliers.shape[0] > 0:\n",
    "        if outliers.shape[0] > 10:\n",
    "            print(outliers.head())\n",
    "        else:\n",
    "            print(outliers)\n",
    "        \n",
    "        if index:\n",
    "            return outliers.index\n",
    "    else:\n",
    "        print(f\"No outliers found in column '{col_name}'.\")\n",
    "\n",
    "# Assuming you have a DataFrame named 'health'\n",
    "# If your DataFrame has a different name, replace 'health' with your DataFrame's name\n",
    "\n",
    "num_cols = health.select_dtypes(include=['number']).columns\n",
    "\n",
    "for col in num_cols:\n",
    "    print(col, (outliers := grab_outliers(health, col)).shape[0] > 0)"
   ]
  },
  {
   "cell_type": "code",
   "execution_count": 96,
   "id": "1ffec61e",
   "metadata": {},
   "outputs": [
    {
     "data": {
      "image/png": "[encoded data removed]",
      "text/plain": [
       "<Figure size 2500x1000 with 2 Axes>"
      ]
     },
     "metadata": {},
     "output_type": "display_data"
    }
   ],
   "source": [
    "plt.figure(5, figsize=(25, 10))\n",
    "corr = health.apply(lambda x: pd.factorize(x)[0]).corr()\n",
    "mask = np.triu(np.ones_like(corr, dtype=bool))\n",
    "ax = sns.heatmap(corr, mask=mask, xticklabels=corr.columns, yticklabels=corr.columns, annot=True, linewidths=.2, cmap='coolwarm', vmin=-1, vmax=1)"
   ]
  },
  {
   "cell_type": "code",
   "execution_count": 97,
   "id": "f59dd3eb",
   "metadata": {},
   "outputs": [
    {
     "data": {
      "text/html": [
       "<div>\n",
       "<style scoped>\n",
       "    .dataframe tbody tr th:only-of-type {\n",
       "        vertical-align: middle;\n",
       "    }\n",
       "\n",
       "    .dataframe tbody tr th {\n",
       "        vertical-align: top;\n",
       "    }\n",
       "\n",
       "    .dataframe thead th {\n",
       "        text-align: right;\n",
       "    }\n",
       "</style>\n",
       "<table border=\"1\" class=\"dataframe\">\n",
       "  <thead>\n",
       "    <tr style=\"text-align: right;\">\n",
       "      <th></th>\n",
       "      <th>Date</th>\n",
       "      <th>Country</th>\n",
       "      <th>Local</th>\n",
       "      <th>Industry Sector</th>\n",
       "      <th>Accident Level</th>\n",
       "      <th>Potential Accident Level</th>\n",
       "      <th>Gender</th>\n",
       "      <th>Employee type</th>\n",
       "      <th>Critical risk</th>\n",
       "      <th>Year</th>\n",
       "      <th>Month</th>\n",
       "      <th>Day</th>\n",
       "      <th>Weekday</th>\n",
       "      <th>Season</th>\n",
       "    </tr>\n",
       "  </thead>\n",
       "  <tbody>\n",
       "    <tr>\n",
       "      <th>0</th>\n",
       "      <td>2016-01-01</td>\n",
       "      <td>1</td>\n",
       "      <td>Local_01</td>\n",
       "      <td>Mining</td>\n",
       "      <td>I</td>\n",
       "      <td>IV</td>\n",
       "      <td>Male</td>\n",
       "      <td>Third Party</td>\n",
       "      <td>Pressed</td>\n",
       "      <td>2016</td>\n",
       "      <td>1</td>\n",
       "      <td>1</td>\n",
       "      <td>Friday</td>\n",
       "      <td>Summer</td>\n",
       "    </tr>\n",
       "    <tr>\n",
       "      <th>1</th>\n",
       "      <td>2016-01-02</td>\n",
       "      <td>2</td>\n",
       "      <td>Local_02</td>\n",
       "      <td>Mining</td>\n",
       "      <td>I</td>\n",
       "      <td>IV</td>\n",
       "      <td>Male</td>\n",
       "      <td>Employee</td>\n",
       "      <td>Pressurized Systems</td>\n",
       "      <td>2016</td>\n",
       "      <td>1</td>\n",
       "      <td>2</td>\n",
       "      <td>Saturday</td>\n",
       "      <td>Summer</td>\n",
       "    </tr>\n",
       "    <tr>\n",
       "      <th>2</th>\n",
       "      <td>2016-01-06</td>\n",
       "      <td>1</td>\n",
       "      <td>Local_03</td>\n",
       "      <td>Mining</td>\n",
       "      <td>I</td>\n",
       "      <td>III</td>\n",
       "      <td>Male</td>\n",
       "      <td>Third Party (Remote)</td>\n",
       "      <td>Manual Tools</td>\n",
       "      <td>2016</td>\n",
       "      <td>1</td>\n",
       "      <td>6</td>\n",
       "      <td>Wednesday</td>\n",
       "      <td>Summer</td>\n",
       "    </tr>\n",
       "  </tbody>\n",
       "</table>\n",
       "</div>"
      ],
      "text/plain": [
       "        Date  Country     Local Industry Sector Accident Level  \\\n",
       "0 2016-01-01        1  Local_01          Mining              I   \n",
       "1 2016-01-02        2  Local_02          Mining              I   \n",
       "2 2016-01-06        1  Local_03          Mining              I   \n",
       "\n",
       "  Potential Accident Level Gender         Employee type        Critical risk  \\\n",
       "0                       IV   Male           Third Party              Pressed   \n",
       "1                       IV   Male              Employee  Pressurized Systems   \n",
       "2                      III   Male  Third Party (Remote)         Manual Tools   \n",
       "\n",
       "   Year  Month  Day    Weekday  Season  \n",
       "0  2016      1    1     Friday  Summer  \n",
       "1  2016      1    2   Saturday  Summer  \n",
       "2  2016      1    6  Wednesday  Summer  "
      ]
     },
     "execution_count": 97,
     "metadata": {},
     "output_type": "execute_result"
    }
   ],
   "source": [
    "health.head(3)"
   ]
  },
  {
   "cell_type": "code",
   "execution_count": 212,
   "id": "bd79bb28",
   "metadata": {},
   "outputs": [
    {
     "name": "stdout",
     "output_type": "stream",
     "text": [
      "Country                       int64\n",
      "Local                         int64\n",
      "Industry Sector               int64\n",
      "Accident Level                int64\n",
      "Potential Accident Level      int64\n",
      "Gender                        int64\n",
      "Year                          int64\n",
      "Month                         int64\n",
      "Day                           int64\n",
      "Weekday                      object\n",
      "Season                       object\n",
      "Employeee type                int64\n",
      "Critical risk_frequency     float64\n",
      "dtype: object\n"
     ]
    }
   ],
   "source": [
    "column_types = model_health.dtypes\n",
    "print(column_types)"
   ]
  },
  {
   "cell_type": "code",
   "execution_count": 188,
   "id": "bc62306a",
   "metadata": {},
   "outputs": [],
   "source": [
    "#Time for model selection\n",
    "from sklearn.model_selection import train_test_split\n",
    "\n",
    "# Psuedo-dataset\n",
    "#model_health = health.copy()\n",
    "# Drop the first column by index (index 0)\n",
    "#model_health = model_health.iloc[:, 1:]\n",
    "\n",
    "#Define mapping to convert 'Local' values to numbers\n",
    "local_mapping = {\n",
    "    'Local_01': 1,\n",
    "    'Local_02': 2,\n",
    "    'Local_03': 3,\n",
    "    'Local_04': 4,\n",
    "    'Local_05': 5,\n",
    "    'Local_06': 6,\n",
    "    'Local_07': 7,\n",
    "    'Local_08': 8,\n",
    "    'Local_09': 9,\n",
    "    'Local_10': 10,\n",
    "    'Local_11': 11,\n",
    "    'Local_12': 12,\n",
    "}\n",
    "\n",
    "model_health['Local'] = model_health['Local'].replace(local_mapping)\n",
    "\n"
   ]
  },
  {
   "cell_type": "code",
   "execution_count": 182,
   "id": "58adfd06",
   "metadata": {},
   "outputs": [
    {
     "name": "stdout",
     "output_type": "stream",
     "text": [
      "['Pressed' 'Pressurized Systems' 'Manual Tools' 'Others'\n",
      " 'Fall prevention (same level)' 'Chemical substances' 'Liquid Metal'\n",
      " 'Electrical installation' 'Confined space'\n",
      " 'Pressurized Systems / Chemical Substances'\n",
      " 'Blocking and isolation of energies' 'Suspended Loads' 'Poll' 'Cut'\n",
      " 'Fall' 'Bees' 'Fall prevention' '\\nNot applicable' 'Not applicable'\n",
      " 'Traffic' 'Projection' 'Venomous Animals' 'Plates' 'Projection/Burning'\n",
      " 'remains of choco' 'Vehicles and Mobile Equipment' 'Projection/Choco'\n",
      " 'Machine Protection' 'Power lock' 'Burn' 'Projection/Manual Tools'\n",
      " 'Individual protection equipment' 'Electrical Shock'\n",
      " 'Projection of fragments']\n"
     ]
    }
   ],
   "source": [
    "#Critical Risk\n",
    "unique_critical_risks = model_health['Critical risk'].unique()\n",
    "print(unique_critical_risks)\n",
    "\n",
    "# Calculate the frequency of each unique value in 'Critical risk'\n",
    "frequency_encoding = model_health['Critical risk'].value_counts(normalize=True).to_dict()\n",
    "\n",
    "# Apply frequency encoding\n",
    "model_health['Critical risk_frequency'] = model_health['Critical risk'].map(frequency_encoding)\n",
    "\n",
    "# Drop the original 'Critical risk' column\n",
    "model_health = model_health.drop(columns=['Critical risk'])"
   ]
  },
  {
   "cell_type": "code",
   "execution_count": 181,
   "id": "247adbf7",
   "metadata": {},
   "outputs": [
    {
     "name": "stdout",
     "output_type": "stream",
     "text": [
      "['Third Party' 'Employee' 'Third Party (Remote)']\n"
     ]
    }
   ],
   "source": [
    "#Employee\n",
    "unique_employee_types = model_health['Employee type'].unique()\n",
    "print(unique_employee_types)\n",
    "\n",
    "#Define mapping to convert 'Local' values to numbers\n",
    "employee_mapping = {\n",
    "    'Third Party': 1,\n",
    "    'Employee': 2,\n",
    "    'Third Party (Remote)': 3\n",
    "}\n",
    "\n",
    "model_health['Employeee type'] = model_health['Employee type'].replace(employee_mapping)\n",
    "model_health = model_health.drop(columns=['Employee type'])"
   ]
  },
  {
   "cell_type": "code",
   "execution_count": 179,
   "id": "f2466334",
   "metadata": {},
   "outputs": [
    {
     "name": "stdout",
     "output_type": "stream",
     "text": [
      "['Mining' 'Metals' 'Others']\n"
     ]
    }
   ],
   "source": [
    "#Industry\n",
    "unique_industry_sector = model_health['Industry Sector'].unique()\n",
    "print(unique_industry_sector)\n",
    "\n",
    "#Define mapping to convert 'Local' values to numbers\n",
    "industry_mapping = {\n",
    "    'Mining': 1,\n",
    "    'Metals': 2,\n",
    "    'Others': 3\n",
    "}\n",
    "\n",
    "model_health['Industry Sector'] = model_health['Industry Sector'].replace(industry_mapping)\n",
    "#model_health = model_health.drop(columns=['Industry Sector'])"
   ]
  },
  {
   "cell_type": "code",
   "execution_count": 184,
   "id": "e5512876",
   "metadata": {},
   "outputs": [],
   "source": [
    "#Gender\n",
    "#Define mapping to convert 'Local' values to numbers\n",
    "gender_mapping = {\n",
    "    'Male': 0,\n",
    "    'Female': 1\n",
    "}\n",
    "\n",
    "model_health['Gender'] = model_health['Gender'].replace(gender_mapping)"
   ]
  },
  {
   "cell_type": "code",
   "execution_count": 196,
   "id": "47e41b50",
   "metadata": {},
   "outputs": [
    {
     "name": "stdout",
     "output_type": "stream",
     "text": [
      "['I' 'IV' 'III' 'II' 'V']\n"
     ]
    }
   ],
   "source": [
    "#Accident Level \n",
    "unique_accident_level = model_health['Accident Level'].unique()\n",
    "print(unique_accident_level)\n",
    "\n",
    "#Define mapping to convert 'Local' values to numbers\n",
    "accident_mapping = {\n",
    "    'I': 1,\n",
    "    'II': 2,\n",
    "    'III': 3,\n",
    "    'IV': 4,\n",
    "    'V': 5\n",
    "}\n",
    "\n",
    "model_health['Accident Level'] = model_health['Accident Level'].replace(accident_mapping)"
   ]
  },
  {
   "cell_type": "code",
   "execution_count": 206,
   "id": "d6465906",
   "metadata": {},
   "outputs": [
    {
     "name": "stdout",
     "output_type": "stream",
     "text": [
      "[4 3 1 2 5 'VI']\n"
     ]
    }
   ],
   "source": [
    "#Potential Accident Level \n",
    "unique_pot_accident_level = model_health['Potential Accident Level'].unique()\n",
    "print(unique_pot_accident_level)\n",
    "\n",
    "#Define mapping to convert 'Local' values to numbers\n",
    "pot_accident_mapping = {\n",
    "    'I': 1,\n",
    "    'II': 2,\n",
    "    'III': 3,\n",
    "    'IV': 4,\n",
    "    'V': 5, \n",
    "    'VI':6\n",
    "}\n",
    "\n",
    "model_health['Potential Accident Level'] = model_health['Potential Accident Level'].replace(pot_accident_mapping)"
   ]
  },
  {
   "cell_type": "code",
   "execution_count": 214,
   "id": "d205b19c",
   "metadata": {},
   "outputs": [
    {
     "name": "stdout",
     "output_type": "stream",
     "text": [
      "['Friday' 'Saturday' 'Wednesday' 'Sunday' 'Tuesday' 'Thursday' 'Monday']\n"
     ]
    }
   ],
   "source": [
    "#Weekday\n",
    "unique_weekday = model_health['Weekday'].unique()\n",
    "print(unique_weekday)\n",
    "\n",
    "#Define mapping to convert 'Local' values to numbers\n",
    "weekday_mapping = {\n",
    "    'Sunday': 1,\n",
    "    'Monday': 2,\n",
    "    'Tuesday': 3,\n",
    "    'Wednesday': 4,\n",
    "    'Thursday': 5, \n",
    "    'Friday':6,\n",
    "    'Saturday':7\n",
    "}\n",
    "\n",
    "model_health['Weekday'] = model_health['Weekday'].replace(weekday_mapping)"
   ]
  },
  {
   "cell_type": "code",
   "execution_count": 216,
   "id": "c9f48dff",
   "metadata": {},
   "outputs": [],
   "source": [
    "model_health = model_health.drop(columns=['Season'])"
   ]
  },
  {
   "cell_type": "code",
   "execution_count": 217,
   "id": "0ed04fab",
   "metadata": {},
   "outputs": [
    {
     "data": {
      "text/html": [
       "<div>\n",
       "<style scoped>\n",
       "    .dataframe tbody tr th:only-of-type {\n",
       "        vertical-align: middle;\n",
       "    }\n",
       "\n",
       "    .dataframe tbody tr th {\n",
       "        vertical-align: top;\n",
       "    }\n",
       "\n",
       "    .dataframe thead th {\n",
       "        text-align: right;\n",
       "    }\n",
       "</style>\n",
       "<table border=\"1\" class=\"dataframe\">\n",
       "  <thead>\n",
       "    <tr style=\"text-align: right;\">\n",
       "      <th></th>\n",
       "      <th>Country</th>\n",
       "      <th>Local</th>\n",
       "      <th>Industry Sector</th>\n",
       "      <th>Accident Level</th>\n",
       "      <th>Potential Accident Level</th>\n",
       "      <th>Gender</th>\n",
       "      <th>Year</th>\n",
       "      <th>Month</th>\n",
       "      <th>Day</th>\n",
       "      <th>Weekday</th>\n",
       "      <th>Employeee type</th>\n",
       "      <th>Critical risk_frequency</th>\n",
       "    </tr>\n",
       "  </thead>\n",
       "  <tbody>\n",
       "    <tr>\n",
       "      <th>436</th>\n",
       "      <td>2</td>\n",
       "      <td>9</td>\n",
       "      <td>2</td>\n",
       "      <td>1</td>\n",
       "      <td>2</td>\n",
       "      <td>0</td>\n",
       "      <td>2017</td>\n",
       "      <td>7</td>\n",
       "      <td>5</td>\n",
       "      <td>4</td>\n",
       "      <td>2</td>\n",
       "      <td>0.031250</td>\n",
       "    </tr>\n",
       "    <tr>\n",
       "      <th>437</th>\n",
       "      <td>2</td>\n",
       "      <td>5</td>\n",
       "      <td>2</td>\n",
       "      <td>1</td>\n",
       "      <td>2</td>\n",
       "      <td>0</td>\n",
       "      <td>2017</td>\n",
       "      <td>7</td>\n",
       "      <td>6</td>\n",
       "      <td>5</td>\n",
       "      <td>2</td>\n",
       "      <td>0.033654</td>\n",
       "    </tr>\n",
       "    <tr>\n",
       "      <th>438</th>\n",
       "      <td>1</td>\n",
       "      <td>4</td>\n",
       "      <td>1</td>\n",
       "      <td>1</td>\n",
       "      <td>2</td>\n",
       "      <td>1</td>\n",
       "      <td>2017</td>\n",
       "      <td>7</td>\n",
       "      <td>9</td>\n",
       "      <td>1</td>\n",
       "      <td>1</td>\n",
       "      <td>0.016827</td>\n",
       "    </tr>\n",
       "  </tbody>\n",
       "</table>\n",
       "</div>"
      ],
      "text/plain": [
       "     Country  Local  Industry Sector  Accident Level  \\\n",
       "436        2      9                2               1   \n",
       "437        2      5                2               1   \n",
       "438        1      4                1               1   \n",
       "\n",
       "     Potential Accident Level  Gender  Year  Month  Day  Weekday  \\\n",
       "436                         2       0  2017      7    5        4   \n",
       "437                         2       0  2017      7    6        5   \n",
       "438                         2       1  2017      7    9        1   \n",
       "\n",
       "     Employeee type  Critical risk_frequency  \n",
       "436               2                 0.031250  \n",
       "437               2                 0.033654  \n",
       "438               1                 0.016827  "
      ]
     },
     "execution_count": 217,
     "metadata": {},
     "output_type": "execute_result"
    }
   ],
   "source": [
    "model_health.tail(3)"
   ]
  },
  {
   "cell_type": "code",
   "execution_count": 257,
   "id": "4f25731f",
   "metadata": {},
   "outputs": [
    {
     "data": {
      "text/plain": [
       "LogisticRegression()"
      ]
     },
     "execution_count": 257,
     "metadata": {},
     "output_type": "execute_result"
    }
   ],
   "source": [
    "# Assuming your target variable is named 'target'\n",
    "X = model_health.drop(columns=['Industry Sector'])  \n",
    "y = model_health['Industry Sector']\n",
    "\n",
    "\n",
    "# Split data into training and testing sets\n",
    "X_train, X_test, y_train, y_test = train_test_split(X, y, test_size=0.2, random_state=42)\n",
    "\n",
    "from sklearn.ensemble import RandomForestClassifier\n",
    "from sklearn.svm import SVC\n",
    "from sklearn.linear_model import LogisticRegression\n",
    "\n",
    "# Initialize different algorithms\n",
    "random_forest_model = RandomForestClassifier()\n",
    "svm_model = SVC()\n",
    "logistic_regression_model = LogisticRegression()\n",
    "\n",
    "# Train Random Forest model\n",
    "random_forest_model.fit(X_train, y_train)\n",
    "\n",
    "# Train Support Vector Machine model\n",
    "svm_model.fit(X_train, y_train)\n",
    "\n",
    "# Train Logistic Regression model\n",
    "logistic_regression_model.fit(X_train, y_train)"
   ]
  },
  {
   "cell_type": "code",
   "execution_count": 258,
   "id": "ef203603",
   "metadata": {},
   "outputs": [
    {
     "name": "stdout",
     "output_type": "stream",
     "text": [
      "Random Forest Accuracy: 0.9880952380952381\n",
      "Support Vector Machine Accuracy: 0.5238095238095238\n",
      "Logistic Regression Accuracy: 0.9880952380952381\n"
     ]
    }
   ],
   "source": [
    "#Lets see how we did \n",
    "from sklearn.metrics import accuracy_score\n",
    "\n",
    "# Predictions on validation set\n",
    "y_pred_rf = random_forest_model.predict(X_test)\n",
    "accuracy_rf = accuracy_score(y_test, y_pred_rf)\n",
    "\n",
    "y_pred_svm = svm_model.predict(X_test)\n",
    "accuracy_svm = accuracy_score(y_test, y_pred_svm)\n",
    "\n",
    "y_pred_lr = logistic_regression_model.predict(X_test)\n",
    "accuracy_lr = accuracy_score(y_test, y_pred_lr)\n",
    "\n",
    "print(\"Random Forest Accuracy:\", accuracy_rf)\n",
    "print(\"Support Vector Machine Accuracy:\", accuracy_svm)\n",
    "print(\"Logistic Regression Accuracy:\", accuracy_lr)"
   ]
  },
  {
   "cell_type": "code",
   "execution_count": 259,
   "id": "311c6dc4",
   "metadata": {},
   "outputs": [
    {
     "name": "stdout",
     "output_type": "stream",
     "text": [
      "Random Forest Accuracy: 0.9880952380952381\n",
      "Random Forest Precision: 0.9885057471264369\n",
      "Random Forest Recall: 0.9880952380952381\n",
      "Random Forest F1-Score: 0.9879408666594022\n"
     ]
    }
   ],
   "source": [
    "#Evaluating the RF\n",
    "from sklearn.metrics import accuracy_score, precision_score, recall_score, f1_score\n",
    "\n",
    "# Calculate and print accuracy\n",
    "accuracy_rf = accuracy_score(y_test, y_pred_rf)\n",
    "print(\"Random Forest Accuracy:\", accuracy_rf)\n",
    "\n",
    "# Calculate and print precision\n",
    "precision_rf = precision_score(y_test, y_pred_rf, average='weighted')\n",
    "print(\"Random Forest Precision:\", precision_rf)\n",
    "\n",
    "# Calculate and print recall\n",
    "recall_rf = recall_score(y_test, y_pred_rf, average='weighted')\n",
    "print(\"Random Forest Recall:\", recall_rf)\n",
    "\n",
    "# Calculate and print F1-score\n",
    "f1_rf = f1_score(y_test, y_pred_rf, average='weighted')\n",
    "print(\"Random Forest F1-Score:\", f1_rf)"
   ]
  },
  {
   "cell_type": "code",
   "execution_count": 260,
   "id": "3378f2ad",
   "metadata": {},
   "outputs": [],
   "source": [
    "#Fine-Tuning Time \n",
    "from sklearn.model_selection import GridSearchCV\n",
    "\n",
    "# Define grid of hyperparameters\n",
    "param_grid_rf = {\n",
    "    'n_estimators': [100, 200, 300],\n",
    "    'max_depth': [None, 5, 10],\n",
    "    'min_samples_split': [2, 5, 10]\n",
    "}\n",
    "\n",
    "# Perform Grid Search for Random Forest\n",
    "grid_search_rf = GridSearchCV(random_forest_model, param_grid_rf, cv=5)\n",
    "grid_search_rf.fit(X_train, y_train)\n",
    "\n",
    "# Get best Random Forest model\n",
    "best_rf_model = grid_search_rf.best_estimator_"
   ]
  },
  {
   "cell_type": "code",
   "execution_count": 261,
   "id": "ac942e70",
   "metadata": {},
   "outputs": [],
   "source": [
    "best_model = best_rf_model"
   ]
  },
  {
   "cell_type": "code",
   "execution_count": 262,
   "id": "b71c8b87",
   "metadata": {},
   "outputs": [
    {
     "data": {
      "text/plain": [
       "VotingClassifier(estimators=[('rf', RandomForestClassifier()), ('svm', SVC())],\n",
       "                 voting='soft')"
      ]
     },
     "execution_count": 262,
     "metadata": {},
     "output_type": "execute_result"
    }
   ],
   "source": [
    "from sklearn.ensemble import VotingClassifier\n",
    "\n",
    "# Create a Voting Classifier using best models\n",
    "ensemble_model = VotingClassifier(estimators=[('rf', best_rf_model), ('svm', svm_model)], voting='soft')\n",
    "ensemble_model.fit(X_train, y_train)"
   ]
  },
  {
   "cell_type": "code",
   "execution_count": 263,
   "id": "169d151a",
   "metadata": {},
   "outputs": [
    {
     "name": "stdout",
     "output_type": "stream",
     "text": [
      "Chosen Model: RandomForestClassifier()\n",
      "Accuracy: 1.0\n"
     ]
    }
   ],
   "source": [
    "# Document your chosen model and its performance\n",
    "print(\"Chosen Model:\", best_model)\n",
    "print(\"Accuracy:\", accuracy_score(y_test, best_model.predict(X_test)))"
   ]
  },
  {
   "cell_type": "markdown",
   "id": "d73dd52e",
   "metadata": {},
   "source": [
    "In future research I would like to explore other alterations made to involving the categorical data (such as embedding or target encoding) because I have a hunch that those changes impacted the data. \n",
    "\n",
    "However, we were able to fine tune the RF with an increased accuracy of over 8% when predicting 'Local.'\n",
    "\n",
    "I learned to not just trust a model's accuracy at face value, other metrics such as precision, recall, and f-1 score add elements to the story. \n",
    "\n",
    "In predicting from the categories with three values, RF and Log Reg seemed to just about always outperform SVM with an accuracy of well over 80%. When the parameters increased though, we saw the accuracy drop rather quickly. As mentioned, further research into this would involve better manipulation of the categorical variables and attempting other methods such as gradient boosting or neural networks. "
   ]
  }
 ],
 "metadata": {
  "kernelspec": {
   "display_name": "Python 3 (ipykernel)",
   "language": "python",
   "name": "python3"
  },
  "language_info": {
   "codemirror_mode": {
    "name": "ipython",
    "version": 3
   },
   "file_extension": ".py",
   "mimetype": "text/x-python",
   "name": "python",
   "nbconvert_exporter": "python",
   "pygments_lexer": "ipython3",
   "version": "3.9.13"
  }
 },
 "nbformat": 4,
 "nbformat_minor": 5
}
